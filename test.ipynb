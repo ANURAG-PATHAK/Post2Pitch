{
 "cells": [
  {
   "cell_type": "code",
   "execution_count": 1,
   "metadata": {},
   "outputs": [
    {
     "name": "stdout",
     "output_type": "stream",
     "text": [
      "Requirement already satisfied: langchain in /opt/miniconda3/envs/Post2Pitch/lib/python3.10/site-packages (from -r requirements.txt (line 1)) (0.3.1)\n",
      "Requirement already satisfied: langchain-groq in /opt/miniconda3/envs/Post2Pitch/lib/python3.10/site-packages (from -r requirements.txt (line 2)) (0.2.0)\n",
      "Requirement already satisfied: python-dotenv in /opt/miniconda3/envs/Post2Pitch/lib/python3.10/site-packages (from -r requirements.txt (line 3)) (1.0.1)\n",
      "Requirement already satisfied: chromadb in /opt/miniconda3/envs/Post2Pitch/lib/python3.10/site-packages (from -r requirements.txt (line 4)) (0.5.11)\n",
      "Requirement already satisfied: langchain_community in /opt/miniconda3/envs/Post2Pitch/lib/python3.10/site-packages (from -r requirements.txt (line 5)) (0.3.1)\n",
      "Requirement already satisfied: beautifulsoup4 in /opt/miniconda3/envs/Post2Pitch/lib/python3.10/site-packages (from -r requirements.txt (line 6)) (4.12.3)\n",
      "Requirement already satisfied: pymupdf in /opt/miniconda3/envs/Post2Pitch/lib/python3.10/site-packages (from -r requirements.txt (line 7)) (1.24.10)\n",
      "Requirement already satisfied: streamlit in /opt/miniconda3/envs/Post2Pitch/lib/python3.10/site-packages (from -r requirements.txt (line 8)) (1.38.0)\n",
      "Requirement already satisfied: PyYAML>=5.3 in /opt/miniconda3/envs/Post2Pitch/lib/python3.10/site-packages (from langchain->-r requirements.txt (line 1)) (6.0.2)\n",
      "Requirement already satisfied: SQLAlchemy<3,>=1.4 in /opt/miniconda3/envs/Post2Pitch/lib/python3.10/site-packages (from langchain->-r requirements.txt (line 1)) (2.0.35)\n",
      "Requirement already satisfied: aiohttp<4.0.0,>=3.8.3 in /opt/miniconda3/envs/Post2Pitch/lib/python3.10/site-packages (from langchain->-r requirements.txt (line 1)) (3.10.8)\n",
      "Requirement already satisfied: async-timeout<5.0.0,>=4.0.0 in /opt/miniconda3/envs/Post2Pitch/lib/python3.10/site-packages (from langchain->-r requirements.txt (line 1)) (4.0.3)\n",
      "Requirement already satisfied: langchain-core<0.4.0,>=0.3.6 in /opt/miniconda3/envs/Post2Pitch/lib/python3.10/site-packages (from langchain->-r requirements.txt (line 1)) (0.3.6)\n",
      "Requirement already satisfied: langchain-text-splitters<0.4.0,>=0.3.0 in /opt/miniconda3/envs/Post2Pitch/lib/python3.10/site-packages (from langchain->-r requirements.txt (line 1)) (0.3.0)\n",
      "Requirement already satisfied: langsmith<0.2.0,>=0.1.17 in /opt/miniconda3/envs/Post2Pitch/lib/python3.10/site-packages (from langchain->-r requirements.txt (line 1)) (0.1.129)\n",
      "Requirement already satisfied: numpy<2,>=1 in /opt/miniconda3/envs/Post2Pitch/lib/python3.10/site-packages (from langchain->-r requirements.txt (line 1)) (1.26.4)\n",
      "Requirement already satisfied: pydantic<3.0.0,>=2.7.4 in /opt/miniconda3/envs/Post2Pitch/lib/python3.10/site-packages (from langchain->-r requirements.txt (line 1)) (2.9.2)\n",
      "Requirement already satisfied: requests<3,>=2 in /opt/miniconda3/envs/Post2Pitch/lib/python3.10/site-packages (from langchain->-r requirements.txt (line 1)) (2.32.3)\n",
      "Requirement already satisfied: tenacity!=8.4.0,<9.0.0,>=8.1.0 in /opt/miniconda3/envs/Post2Pitch/lib/python3.10/site-packages (from langchain->-r requirements.txt (line 1)) (8.5.0)\n",
      "Requirement already satisfied: groq<1,>=0.4.1 in /opt/miniconda3/envs/Post2Pitch/lib/python3.10/site-packages (from langchain-groq->-r requirements.txt (line 2)) (0.11.0)\n",
      "Requirement already satisfied: build>=1.0.3 in /opt/miniconda3/envs/Post2Pitch/lib/python3.10/site-packages (from chromadb->-r requirements.txt (line 4)) (1.2.2)\n",
      "Requirement already satisfied: chroma-hnswlib==0.7.6 in /opt/miniconda3/envs/Post2Pitch/lib/python3.10/site-packages (from chromadb->-r requirements.txt (line 4)) (0.7.6)\n",
      "Requirement already satisfied: fastapi>=0.95.2 in /opt/miniconda3/envs/Post2Pitch/lib/python3.10/site-packages (from chromadb->-r requirements.txt (line 4)) (0.115.0)\n",
      "Requirement already satisfied: uvicorn>=0.18.3 in /opt/miniconda3/envs/Post2Pitch/lib/python3.10/site-packages (from uvicorn[standard]>=0.18.3->chromadb->-r requirements.txt (line 4)) (0.31.0)\n",
      "Requirement already satisfied: posthog>=2.4.0 in /opt/miniconda3/envs/Post2Pitch/lib/python3.10/site-packages (from chromadb->-r requirements.txt (line 4)) (3.6.6)\n",
      "Requirement already satisfied: typing-extensions>=4.5.0 in /opt/miniconda3/envs/Post2Pitch/lib/python3.10/site-packages (from chromadb->-r requirements.txt (line 4)) (4.12.2)\n",
      "Requirement already satisfied: onnxruntime>=1.14.1 in /opt/miniconda3/envs/Post2Pitch/lib/python3.10/site-packages (from chromadb->-r requirements.txt (line 4)) (1.19.2)\n",
      "Requirement already satisfied: opentelemetry-api>=1.2.0 in /opt/miniconda3/envs/Post2Pitch/lib/python3.10/site-packages (from chromadb->-r requirements.txt (line 4)) (1.27.0)\n",
      "Requirement already satisfied: opentelemetry-exporter-otlp-proto-grpc>=1.2.0 in /opt/miniconda3/envs/Post2Pitch/lib/python3.10/site-packages (from chromadb->-r requirements.txt (line 4)) (1.27.0)\n",
      "Requirement already satisfied: opentelemetry-instrumentation-fastapi>=0.41b0 in /opt/miniconda3/envs/Post2Pitch/lib/python3.10/site-packages (from chromadb->-r requirements.txt (line 4)) (0.48b0)\n",
      "Requirement already satisfied: opentelemetry-sdk>=1.2.0 in /opt/miniconda3/envs/Post2Pitch/lib/python3.10/site-packages (from chromadb->-r requirements.txt (line 4)) (1.27.0)\n",
      "Requirement already satisfied: tokenizers>=0.13.2 in /opt/miniconda3/envs/Post2Pitch/lib/python3.10/site-packages (from chromadb->-r requirements.txt (line 4)) (0.20.0)\n",
      "Requirement already satisfied: pypika>=0.48.9 in /opt/miniconda3/envs/Post2Pitch/lib/python3.10/site-packages (from chromadb->-r requirements.txt (line 4)) (0.48.9)\n",
      "Requirement already satisfied: tqdm>=4.65.0 in /opt/miniconda3/envs/Post2Pitch/lib/python3.10/site-packages (from chromadb->-r requirements.txt (line 4)) (4.66.5)\n",
      "Requirement already satisfied: overrides>=7.3.1 in /opt/miniconda3/envs/Post2Pitch/lib/python3.10/site-packages (from chromadb->-r requirements.txt (line 4)) (7.7.0)\n",
      "Requirement already satisfied: importlib-resources in /opt/miniconda3/envs/Post2Pitch/lib/python3.10/site-packages (from chromadb->-r requirements.txt (line 4)) (6.4.5)\n",
      "Requirement already satisfied: grpcio>=1.58.0 in /opt/miniconda3/envs/Post2Pitch/lib/python3.10/site-packages (from chromadb->-r requirements.txt (line 4)) (1.66.2)\n",
      "Requirement already satisfied: bcrypt>=4.0.1 in /opt/miniconda3/envs/Post2Pitch/lib/python3.10/site-packages (from chromadb->-r requirements.txt (line 4)) (4.2.0)\n",
      "Requirement already satisfied: typer>=0.9.0 in /opt/miniconda3/envs/Post2Pitch/lib/python3.10/site-packages (from chromadb->-r requirements.txt (line 4)) (0.12.5)\n",
      "Requirement already satisfied: kubernetes>=28.1.0 in /opt/miniconda3/envs/Post2Pitch/lib/python3.10/site-packages (from chromadb->-r requirements.txt (line 4)) (31.0.0)\n",
      "Requirement already satisfied: mmh3>=4.0.1 in /opt/miniconda3/envs/Post2Pitch/lib/python3.10/site-packages (from chromadb->-r requirements.txt (line 4)) (5.0.1)\n",
      "Requirement already satisfied: orjson>=3.9.12 in /opt/miniconda3/envs/Post2Pitch/lib/python3.10/site-packages (from chromadb->-r requirements.txt (line 4)) (3.10.7)\n",
      "Requirement already satisfied: httpx>=0.27.0 in /opt/miniconda3/envs/Post2Pitch/lib/python3.10/site-packages (from chromadb->-r requirements.txt (line 4)) (0.27.2)\n",
      "Requirement already satisfied: rich>=10.11.0 in /opt/miniconda3/envs/Post2Pitch/lib/python3.10/site-packages (from chromadb->-r requirements.txt (line 4)) (13.8.1)\n",
      "Requirement already satisfied: dataclasses-json<0.7,>=0.5.7 in /opt/miniconda3/envs/Post2Pitch/lib/python3.10/site-packages (from langchain_community->-r requirements.txt (line 5)) (0.6.7)\n",
      "Requirement already satisfied: pydantic-settings<3.0.0,>=2.4.0 in /opt/miniconda3/envs/Post2Pitch/lib/python3.10/site-packages (from langchain_community->-r requirements.txt (line 5)) (2.5.2)\n",
      "Requirement already satisfied: soupsieve>1.2 in /opt/miniconda3/envs/Post2Pitch/lib/python3.10/site-packages (from beautifulsoup4->-r requirements.txt (line 6)) (2.6)\n",
      "Requirement already satisfied: PyMuPDFb==1.24.10 in /opt/miniconda3/envs/Post2Pitch/lib/python3.10/site-packages (from pymupdf->-r requirements.txt (line 7)) (1.24.10)\n",
      "Requirement already satisfied: altair<6,>=4.0 in /opt/miniconda3/envs/Post2Pitch/lib/python3.10/site-packages (from streamlit->-r requirements.txt (line 8)) (5.4.1)\n",
      "Requirement already satisfied: blinker<2,>=1.0.0 in /opt/miniconda3/envs/Post2Pitch/lib/python3.10/site-packages (from streamlit->-r requirements.txt (line 8)) (1.8.2)\n",
      "Requirement already satisfied: cachetools<6,>=4.0 in /opt/miniconda3/envs/Post2Pitch/lib/python3.10/site-packages (from streamlit->-r requirements.txt (line 8)) (5.5.0)\n",
      "Requirement already satisfied: click<9,>=7.0 in /opt/miniconda3/envs/Post2Pitch/lib/python3.10/site-packages (from streamlit->-r requirements.txt (line 8)) (8.1.7)\n",
      "Requirement already satisfied: packaging<25,>=20 in /opt/miniconda3/envs/Post2Pitch/lib/python3.10/site-packages (from streamlit->-r requirements.txt (line 8)) (24.1)\n",
      "Requirement already satisfied: pandas<3,>=1.3.0 in /opt/miniconda3/envs/Post2Pitch/lib/python3.10/site-packages (from streamlit->-r requirements.txt (line 8)) (2.2.3)\n",
      "Requirement already satisfied: pillow<11,>=7.1.0 in /opt/miniconda3/envs/Post2Pitch/lib/python3.10/site-packages (from streamlit->-r requirements.txt (line 8)) (10.4.0)\n",
      "Requirement already satisfied: protobuf<6,>=3.20 in /opt/miniconda3/envs/Post2Pitch/lib/python3.10/site-packages (from streamlit->-r requirements.txt (line 8)) (4.25.5)\n",
      "Requirement already satisfied: pyarrow>=7.0 in /opt/miniconda3/envs/Post2Pitch/lib/python3.10/site-packages (from streamlit->-r requirements.txt (line 8)) (17.0.0)\n",
      "Requirement already satisfied: toml<2,>=0.10.1 in /opt/miniconda3/envs/Post2Pitch/lib/python3.10/site-packages (from streamlit->-r requirements.txt (line 8)) (0.10.2)\n",
      "Requirement already satisfied: gitpython!=3.1.19,<4,>=3.0.7 in /opt/miniconda3/envs/Post2Pitch/lib/python3.10/site-packages (from streamlit->-r requirements.txt (line 8)) (3.1.43)\n",
      "Requirement already satisfied: pydeck<1,>=0.8.0b4 in /opt/miniconda3/envs/Post2Pitch/lib/python3.10/site-packages (from streamlit->-r requirements.txt (line 8)) (0.9.1)\n",
      "Requirement already satisfied: tornado<7,>=6.0.3 in /opt/miniconda3/envs/Post2Pitch/lib/python3.10/site-packages (from streamlit->-r requirements.txt (line 8)) (6.4.1)\n",
      "Requirement already satisfied: aiohappyeyeballs>=2.3.0 in /opt/miniconda3/envs/Post2Pitch/lib/python3.10/site-packages (from aiohttp<4.0.0,>=3.8.3->langchain->-r requirements.txt (line 1)) (2.4.2)\n",
      "Requirement already satisfied: aiosignal>=1.1.2 in /opt/miniconda3/envs/Post2Pitch/lib/python3.10/site-packages (from aiohttp<4.0.0,>=3.8.3->langchain->-r requirements.txt (line 1)) (1.3.1)\n",
      "Requirement already satisfied: attrs>=17.3.0 in /opt/miniconda3/envs/Post2Pitch/lib/python3.10/site-packages (from aiohttp<4.0.0,>=3.8.3->langchain->-r requirements.txt (line 1)) (24.2.0)\n",
      "Requirement already satisfied: frozenlist>=1.1.1 in /opt/miniconda3/envs/Post2Pitch/lib/python3.10/site-packages (from aiohttp<4.0.0,>=3.8.3->langchain->-r requirements.txt (line 1)) (1.4.1)\n",
      "Requirement already satisfied: multidict<7.0,>=4.5 in /opt/miniconda3/envs/Post2Pitch/lib/python3.10/site-packages (from aiohttp<4.0.0,>=3.8.3->langchain->-r requirements.txt (line 1)) (6.1.0)\n",
      "Requirement already satisfied: yarl<2.0,>=1.12.0 in /opt/miniconda3/envs/Post2Pitch/lib/python3.10/site-packages (from aiohttp<4.0.0,>=3.8.3->langchain->-r requirements.txt (line 1)) (1.13.1)\n",
      "Requirement already satisfied: jinja2 in /opt/miniconda3/envs/Post2Pitch/lib/python3.10/site-packages (from altair<6,>=4.0->streamlit->-r requirements.txt (line 8)) (3.1.4)\n",
      "Requirement already satisfied: jsonschema>=3.0 in /opt/miniconda3/envs/Post2Pitch/lib/python3.10/site-packages (from altair<6,>=4.0->streamlit->-r requirements.txt (line 8)) (4.23.0)\n",
      "Requirement already satisfied: narwhals>=1.5.2 in /opt/miniconda3/envs/Post2Pitch/lib/python3.10/site-packages (from altair<6,>=4.0->streamlit->-r requirements.txt (line 8)) (1.8.4)\n",
      "Requirement already satisfied: pyproject_hooks in /opt/miniconda3/envs/Post2Pitch/lib/python3.10/site-packages (from build>=1.0.3->chromadb->-r requirements.txt (line 4)) (1.2.0)\n",
      "Requirement already satisfied: tomli>=1.1.0 in /opt/miniconda3/envs/Post2Pitch/lib/python3.10/site-packages (from build>=1.0.3->chromadb->-r requirements.txt (line 4)) (2.0.1)\n",
      "Requirement already satisfied: marshmallow<4.0.0,>=3.18.0 in /opt/miniconda3/envs/Post2Pitch/lib/python3.10/site-packages (from dataclasses-json<0.7,>=0.5.7->langchain_community->-r requirements.txt (line 5)) (3.22.0)\n",
      "Requirement already satisfied: typing-inspect<1,>=0.4.0 in /opt/miniconda3/envs/Post2Pitch/lib/python3.10/site-packages (from dataclasses-json<0.7,>=0.5.7->langchain_community->-r requirements.txt (line 5)) (0.9.0)\n",
      "Requirement already satisfied: starlette<0.39.0,>=0.37.2 in /opt/miniconda3/envs/Post2Pitch/lib/python3.10/site-packages (from fastapi>=0.95.2->chromadb->-r requirements.txt (line 4)) (0.38.6)\n",
      "Requirement already satisfied: gitdb<5,>=4.0.1 in /opt/miniconda3/envs/Post2Pitch/lib/python3.10/site-packages (from gitpython!=3.1.19,<4,>=3.0.7->streamlit->-r requirements.txt (line 8)) (4.0.11)\n",
      "Requirement already satisfied: anyio<5,>=3.5.0 in /opt/miniconda3/envs/Post2Pitch/lib/python3.10/site-packages (from groq<1,>=0.4.1->langchain-groq->-r requirements.txt (line 2)) (4.6.0)\n",
      "Requirement already satisfied: distro<2,>=1.7.0 in /opt/miniconda3/envs/Post2Pitch/lib/python3.10/site-packages (from groq<1,>=0.4.1->langchain-groq->-r requirements.txt (line 2)) (1.9.0)\n",
      "Requirement already satisfied: sniffio in /opt/miniconda3/envs/Post2Pitch/lib/python3.10/site-packages (from groq<1,>=0.4.1->langchain-groq->-r requirements.txt (line 2)) (1.3.1)\n",
      "Requirement already satisfied: certifi in /opt/miniconda3/envs/Post2Pitch/lib/python3.10/site-packages (from httpx>=0.27.0->chromadb->-r requirements.txt (line 4)) (2024.8.30)\n",
      "Requirement already satisfied: httpcore==1.* in /opt/miniconda3/envs/Post2Pitch/lib/python3.10/site-packages (from httpx>=0.27.0->chromadb->-r requirements.txt (line 4)) (1.0.5)\n",
      "Requirement already satisfied: idna in /opt/miniconda3/envs/Post2Pitch/lib/python3.10/site-packages (from httpx>=0.27.0->chromadb->-r requirements.txt (line 4)) (3.10)\n",
      "Requirement already satisfied: h11<0.15,>=0.13 in /opt/miniconda3/envs/Post2Pitch/lib/python3.10/site-packages (from httpcore==1.*->httpx>=0.27.0->chromadb->-r requirements.txt (line 4)) (0.14.0)\n",
      "Requirement already satisfied: six>=1.9.0 in /opt/miniconda3/envs/Post2Pitch/lib/python3.10/site-packages (from kubernetes>=28.1.0->chromadb->-r requirements.txt (line 4)) (1.16.0)\n",
      "Requirement already satisfied: python-dateutil>=2.5.3 in /opt/miniconda3/envs/Post2Pitch/lib/python3.10/site-packages (from kubernetes>=28.1.0->chromadb->-r requirements.txt (line 4)) (2.9.0)\n",
      "Requirement already satisfied: google-auth>=1.0.1 in /opt/miniconda3/envs/Post2Pitch/lib/python3.10/site-packages (from kubernetes>=28.1.0->chromadb->-r requirements.txt (line 4)) (2.35.0)\n",
      "Requirement already satisfied: websocket-client!=0.40.0,!=0.41.*,!=0.42.*,>=0.32.0 in /opt/miniconda3/envs/Post2Pitch/lib/python3.10/site-packages (from kubernetes>=28.1.0->chromadb->-r requirements.txt (line 4)) (1.8.0)\n",
      "Requirement already satisfied: requests-oauthlib in /opt/miniconda3/envs/Post2Pitch/lib/python3.10/site-packages (from kubernetes>=28.1.0->chromadb->-r requirements.txt (line 4)) (2.0.0)\n",
      "Requirement already satisfied: oauthlib>=3.2.2 in /opt/miniconda3/envs/Post2Pitch/lib/python3.10/site-packages (from kubernetes>=28.1.0->chromadb->-r requirements.txt (line 4)) (3.2.2)\n",
      "Requirement already satisfied: urllib3>=1.24.2 in /opt/miniconda3/envs/Post2Pitch/lib/python3.10/site-packages (from kubernetes>=28.1.0->chromadb->-r requirements.txt (line 4)) (2.2.3)\n",
      "Requirement already satisfied: durationpy>=0.7 in /opt/miniconda3/envs/Post2Pitch/lib/python3.10/site-packages (from kubernetes>=28.1.0->chromadb->-r requirements.txt (line 4)) (0.7)\n",
      "Requirement already satisfied: jsonpatch<2.0,>=1.33 in /opt/miniconda3/envs/Post2Pitch/lib/python3.10/site-packages (from langchain-core<0.4.0,>=0.3.6->langchain->-r requirements.txt (line 1)) (1.33)\n",
      "Requirement already satisfied: coloredlogs in /opt/miniconda3/envs/Post2Pitch/lib/python3.10/site-packages (from onnxruntime>=1.14.1->chromadb->-r requirements.txt (line 4)) (15.0.1)\n",
      "Requirement already satisfied: flatbuffers in /opt/miniconda3/envs/Post2Pitch/lib/python3.10/site-packages (from onnxruntime>=1.14.1->chromadb->-r requirements.txt (line 4)) (24.3.25)\n",
      "Requirement already satisfied: sympy in /opt/miniconda3/envs/Post2Pitch/lib/python3.10/site-packages (from onnxruntime>=1.14.1->chromadb->-r requirements.txt (line 4)) (1.13.3)\n",
      "Requirement already satisfied: deprecated>=1.2.6 in /opt/miniconda3/envs/Post2Pitch/lib/python3.10/site-packages (from opentelemetry-api>=1.2.0->chromadb->-r requirements.txt (line 4)) (1.2.14)\n",
      "Requirement already satisfied: importlib-metadata<=8.4.0,>=6.0 in /opt/miniconda3/envs/Post2Pitch/lib/python3.10/site-packages (from opentelemetry-api>=1.2.0->chromadb->-r requirements.txt (line 4)) (8.4.0)\n",
      "Requirement already satisfied: googleapis-common-protos~=1.52 in /opt/miniconda3/envs/Post2Pitch/lib/python3.10/site-packages (from opentelemetry-exporter-otlp-proto-grpc>=1.2.0->chromadb->-r requirements.txt (line 4)) (1.65.0)\n",
      "Requirement already satisfied: opentelemetry-exporter-otlp-proto-common==1.27.0 in /opt/miniconda3/envs/Post2Pitch/lib/python3.10/site-packages (from opentelemetry-exporter-otlp-proto-grpc>=1.2.0->chromadb->-r requirements.txt (line 4)) (1.27.0)\n",
      "Requirement already satisfied: opentelemetry-proto==1.27.0 in /opt/miniconda3/envs/Post2Pitch/lib/python3.10/site-packages (from opentelemetry-exporter-otlp-proto-grpc>=1.2.0->chromadb->-r requirements.txt (line 4)) (1.27.0)\n",
      "Requirement already satisfied: opentelemetry-instrumentation-asgi==0.48b0 in /opt/miniconda3/envs/Post2Pitch/lib/python3.10/site-packages (from opentelemetry-instrumentation-fastapi>=0.41b0->chromadb->-r requirements.txt (line 4)) (0.48b0)\n",
      "Requirement already satisfied: opentelemetry-instrumentation==0.48b0 in /opt/miniconda3/envs/Post2Pitch/lib/python3.10/site-packages (from opentelemetry-instrumentation-fastapi>=0.41b0->chromadb->-r requirements.txt (line 4)) (0.48b0)\n",
      "Requirement already satisfied: opentelemetry-semantic-conventions==0.48b0 in /opt/miniconda3/envs/Post2Pitch/lib/python3.10/site-packages (from opentelemetry-instrumentation-fastapi>=0.41b0->chromadb->-r requirements.txt (line 4)) (0.48b0)\n",
      "Requirement already satisfied: opentelemetry-util-http==0.48b0 in /opt/miniconda3/envs/Post2Pitch/lib/python3.10/site-packages (from opentelemetry-instrumentation-fastapi>=0.41b0->chromadb->-r requirements.txt (line 4)) (0.48b0)\n",
      "Requirement already satisfied: setuptools>=16.0 in /opt/miniconda3/envs/Post2Pitch/lib/python3.10/site-packages (from opentelemetry-instrumentation==0.48b0->opentelemetry-instrumentation-fastapi>=0.41b0->chromadb->-r requirements.txt (line 4)) (75.1.0)\n",
      "Requirement already satisfied: wrapt<2.0.0,>=1.0.0 in /opt/miniconda3/envs/Post2Pitch/lib/python3.10/site-packages (from opentelemetry-instrumentation==0.48b0->opentelemetry-instrumentation-fastapi>=0.41b0->chromadb->-r requirements.txt (line 4)) (1.16.0)\n",
      "Requirement already satisfied: asgiref~=3.0 in /opt/miniconda3/envs/Post2Pitch/lib/python3.10/site-packages (from opentelemetry-instrumentation-asgi==0.48b0->opentelemetry-instrumentation-fastapi>=0.41b0->chromadb->-r requirements.txt (line 4)) (3.8.1)\n",
      "Requirement already satisfied: pytz>=2020.1 in /opt/miniconda3/envs/Post2Pitch/lib/python3.10/site-packages (from pandas<3,>=1.3.0->streamlit->-r requirements.txt (line 8)) (2024.2)\n",
      "Requirement already satisfied: tzdata>=2022.7 in /opt/miniconda3/envs/Post2Pitch/lib/python3.10/site-packages (from pandas<3,>=1.3.0->streamlit->-r requirements.txt (line 8)) (2024.2)\n",
      "Requirement already satisfied: monotonic>=1.5 in /opt/miniconda3/envs/Post2Pitch/lib/python3.10/site-packages (from posthog>=2.4.0->chromadb->-r requirements.txt (line 4)) (1.6)\n",
      "Requirement already satisfied: backoff>=1.10.0 in /opt/miniconda3/envs/Post2Pitch/lib/python3.10/site-packages (from posthog>=2.4.0->chromadb->-r requirements.txt (line 4)) (2.2.1)\n",
      "Requirement already satisfied: annotated-types>=0.6.0 in /opt/miniconda3/envs/Post2Pitch/lib/python3.10/site-packages (from pydantic<3.0.0,>=2.7.4->langchain->-r requirements.txt (line 1)) (0.7.0)\n",
      "Requirement already satisfied: pydantic-core==2.23.4 in /opt/miniconda3/envs/Post2Pitch/lib/python3.10/site-packages (from pydantic<3.0.0,>=2.7.4->langchain->-r requirements.txt (line 1)) (2.23.4)\n",
      "Requirement already satisfied: charset-normalizer<4,>=2 in /opt/miniconda3/envs/Post2Pitch/lib/python3.10/site-packages (from requests<3,>=2->langchain->-r requirements.txt (line 1)) (3.3.2)\n",
      "Requirement already satisfied: markdown-it-py>=2.2.0 in /opt/miniconda3/envs/Post2Pitch/lib/python3.10/site-packages (from rich>=10.11.0->chromadb->-r requirements.txt (line 4)) (3.0.0)\n",
      "Requirement already satisfied: pygments<3.0.0,>=2.13.0 in /opt/miniconda3/envs/Post2Pitch/lib/python3.10/site-packages (from rich>=10.11.0->chromadb->-r requirements.txt (line 4)) (2.18.0)\n",
      "Requirement already satisfied: huggingface-hub<1.0,>=0.16.4 in /opt/miniconda3/envs/Post2Pitch/lib/python3.10/site-packages (from tokenizers>=0.13.2->chromadb->-r requirements.txt (line 4)) (0.25.1)\n",
      "Requirement already satisfied: shellingham>=1.3.0 in /opt/miniconda3/envs/Post2Pitch/lib/python3.10/site-packages (from typer>=0.9.0->chromadb->-r requirements.txt (line 4)) (1.5.4)\n",
      "Requirement already satisfied: httptools>=0.5.0 in /opt/miniconda3/envs/Post2Pitch/lib/python3.10/site-packages (from uvicorn[standard]>=0.18.3->chromadb->-r requirements.txt (line 4)) (0.6.1)\n",
      "Requirement already satisfied: uvloop!=0.15.0,!=0.15.1,>=0.14.0 in /opt/miniconda3/envs/Post2Pitch/lib/python3.10/site-packages (from uvicorn[standard]>=0.18.3->chromadb->-r requirements.txt (line 4)) (0.20.0)\n",
      "Requirement already satisfied: watchfiles>=0.13 in /opt/miniconda3/envs/Post2Pitch/lib/python3.10/site-packages (from uvicorn[standard]>=0.18.3->chromadb->-r requirements.txt (line 4)) (0.24.0)\n",
      "Requirement already satisfied: websockets>=10.4 in /opt/miniconda3/envs/Post2Pitch/lib/python3.10/site-packages (from uvicorn[standard]>=0.18.3->chromadb->-r requirements.txt (line 4)) (13.1)\n",
      "Requirement already satisfied: exceptiongroup>=1.0.2 in /opt/miniconda3/envs/Post2Pitch/lib/python3.10/site-packages (from anyio<5,>=3.5.0->groq<1,>=0.4.1->langchain-groq->-r requirements.txt (line 2)) (1.2.2)\n",
      "Requirement already satisfied: smmap<6,>=3.0.1 in /opt/miniconda3/envs/Post2Pitch/lib/python3.10/site-packages (from gitdb<5,>=4.0.1->gitpython!=3.1.19,<4,>=3.0.7->streamlit->-r requirements.txt (line 8)) (5.0.1)\n",
      "Requirement already satisfied: pyasn1-modules>=0.2.1 in /opt/miniconda3/envs/Post2Pitch/lib/python3.10/site-packages (from google-auth>=1.0.1->kubernetes>=28.1.0->chromadb->-r requirements.txt (line 4)) (0.4.1)\n",
      "Requirement already satisfied: rsa<5,>=3.1.4 in /opt/miniconda3/envs/Post2Pitch/lib/python3.10/site-packages (from google-auth>=1.0.1->kubernetes>=28.1.0->chromadb->-r requirements.txt (line 4)) (4.9)\n",
      "Requirement already satisfied: filelock in /opt/miniconda3/envs/Post2Pitch/lib/python3.10/site-packages (from huggingface-hub<1.0,>=0.16.4->tokenizers>=0.13.2->chromadb->-r requirements.txt (line 4)) (3.16.1)\n",
      "Requirement already satisfied: fsspec>=2023.5.0 in /opt/miniconda3/envs/Post2Pitch/lib/python3.10/site-packages (from huggingface-hub<1.0,>=0.16.4->tokenizers>=0.13.2->chromadb->-r requirements.txt (line 4)) (2024.9.0)\n",
      "Requirement already satisfied: zipp>=0.5 in /opt/miniconda3/envs/Post2Pitch/lib/python3.10/site-packages (from importlib-metadata<=8.4.0,>=6.0->opentelemetry-api>=1.2.0->chromadb->-r requirements.txt (line 4)) (3.20.2)\n",
      "Requirement already satisfied: MarkupSafe>=2.0 in /opt/miniconda3/envs/Post2Pitch/lib/python3.10/site-packages (from jinja2->altair<6,>=4.0->streamlit->-r requirements.txt (line 8)) (2.1.5)\n",
      "Requirement already satisfied: jsonpointer>=1.9 in /opt/miniconda3/envs/Post2Pitch/lib/python3.10/site-packages (from jsonpatch<2.0,>=1.33->langchain-core<0.4.0,>=0.3.6->langchain->-r requirements.txt (line 1)) (3.0.0)\n",
      "Requirement already satisfied: jsonschema-specifications>=2023.03.6 in /opt/miniconda3/envs/Post2Pitch/lib/python3.10/site-packages (from jsonschema>=3.0->altair<6,>=4.0->streamlit->-r requirements.txt (line 8)) (2023.12.1)\n",
      "Requirement already satisfied: referencing>=0.28.4 in /opt/miniconda3/envs/Post2Pitch/lib/python3.10/site-packages (from jsonschema>=3.0->altair<6,>=4.0->streamlit->-r requirements.txt (line 8)) (0.35.1)\n",
      "Requirement already satisfied: rpds-py>=0.7.1 in /opt/miniconda3/envs/Post2Pitch/lib/python3.10/site-packages (from jsonschema>=3.0->altair<6,>=4.0->streamlit->-r requirements.txt (line 8)) (0.20.0)\n",
      "Requirement already satisfied: mdurl~=0.1 in /opt/miniconda3/envs/Post2Pitch/lib/python3.10/site-packages (from markdown-it-py>=2.2.0->rich>=10.11.0->chromadb->-r requirements.txt (line 4)) (0.1.2)\n",
      "Requirement already satisfied: mypy-extensions>=0.3.0 in /opt/miniconda3/envs/Post2Pitch/lib/python3.10/site-packages (from typing-inspect<1,>=0.4.0->dataclasses-json<0.7,>=0.5.7->langchain_community->-r requirements.txt (line 5)) (1.0.0)\n",
      "Requirement already satisfied: humanfriendly>=9.1 in /opt/miniconda3/envs/Post2Pitch/lib/python3.10/site-packages (from coloredlogs->onnxruntime>=1.14.1->chromadb->-r requirements.txt (line 4)) (10.0)\n",
      "Requirement already satisfied: mpmath<1.4,>=1.1.0 in /opt/miniconda3/envs/Post2Pitch/lib/python3.10/site-packages (from sympy->onnxruntime>=1.14.1->chromadb->-r requirements.txt (line 4)) (1.3.0)\n",
      "Requirement already satisfied: pyasn1<0.7.0,>=0.4.6 in /opt/miniconda3/envs/Post2Pitch/lib/python3.10/site-packages (from pyasn1-modules>=0.2.1->google-auth>=1.0.1->kubernetes>=28.1.0->chromadb->-r requirements.txt (line 4)) (0.6.1)\n",
      "Note: you may need to restart the kernel to use updated packages.\n"
     ]
    }
   ],
   "source": [
    "%pip install -r requirements.txt"
   ]
  },
  {
   "cell_type": "code",
   "execution_count": 2,
   "metadata": {},
   "outputs": [
    {
     "name": "stdout",
     "output_type": "stream",
     "text": [
      "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\n"
     ]
    }
   ],
   "source": [
    "from dotenv import load_dotenv\n",
    "import os\n",
    "load_dotenv()\n",
    "groq_api = os.getenv('groq_api')\n",
    "print(groq_api)"
   ]
  },
  {
   "cell_type": "code",
   "execution_count": 3,
   "metadata": {},
   "outputs": [
    {
     "name": "stdout",
     "output_type": "stream",
     "text": [
      "The first person to set foot on the Moon was Neil Armstrong. He stepped out of the lunar module Eagle and onto the Moon's surface on July 20, 1969, during the Apollo 11 mission. Armstrong famously declared, \"That's one small step for man, one giant leap for mankind,\" as he became the first human to walk on the Moon.\n"
     ]
    }
   ],
   "source": [
    "from langchain_groq import ChatGroq\n",
    "\n",
    "llm = ChatGroq(\n",
    "    temperature=0,\n",
    "    groq_api_key=groq_api,\n",
    "    model=\"llama3-70b-8192\"\n",
    ")\n",
    "\n",
    "response = llm.invoke(\"The first person to land on moon was?\")\n",
    "print(response.content)"
   ]
  },
  {
   "cell_type": "code",
   "execution_count": 4,
   "metadata": {},
   "outputs": [],
   "source": [
    "import chromadb\n",
    "chroma_client = chromadb.Client()\n",
    "collection = chroma_client.create_collection(name=\"default_collection\")"
   ]
  },
  {
   "cell_type": "code",
   "execution_count": 5,
   "metadata": {},
   "outputs": [
    {
     "name": "stderr",
     "output_type": "stream",
     "text": [
      "USER_AGENT environment variable not set, consider setting it to identify your requests.\n"
     ]
    }
   ],
   "source": [
    "from langchain_community.document_loaders import WebBaseLoader\n",
    "loader = WebBaseLoader(\"https://jobs.lever.co/mindtickle/011afcfc-09da-48f6-8acc-d49a13791327/apply?source=LinkedIn\")\n",
    "page_data = loader.load().pop().page_content"
   ]
  },
  {
   "cell_type": "code",
   "execution_count": 6,
   "metadata": {},
   "outputs": [
    {
     "data": {
      "text/plain": [
       "\"Mindtickle - SDE-I (Frontend)SDE-I (Frontend)BangaloreEngineering – Engineering /Full-time /On-siteSubmit your applicationLinkedIn profileLoading...Apply with LinkedInProfile addedYour full LinkedIn profile will beshared. Learn moreResume/CV ✱ATTACH RESUME/CVCouldn't auto-read resume.Analyzing resume...Success!File exceeds the maximum upload size of 100MB. Please try a smaller size.Full name✱Email✱Phone ✱Current location No location found. Try entering a different locationLoadingCurrent company LinksLinkedIn URLTwitter URLGitHub URLPortfolio URLOther websiteSDE (Frontend)-BangaloreYour current location✱Are you open to the Bangalore location?✱What is your CTC (Breakup)✱What is your Expected CTC?✱What is your Notice Period?✱Do you currently have any job offers? If yes, please provide details.✱Is there anything else you'd like to share with us?✱How many years of relevant experience do you have in Frontend Development?✱Additional informationYes, Mindtickle can contact me about future job opportunities for up to 2 yearsPrivacy policySubmit applicationMindtickle Home PageJobs powered by \""
      ]
     },
     "execution_count": 6,
     "metadata": {},
     "output_type": "execute_result"
    }
   ],
   "source": [
    "page_data"
   ]
  },
  {
   "cell_type": "code",
   "execution_count": 7,
   "metadata": {},
   "outputs": [],
   "source": [
    "from langchain_core.prompts import PromptTemplate\n",
    "from langchain_core.output_parsers import JsonOutputParser"
   ]
  },
  {
   "cell_type": "code",
   "execution_count": 8,
   "metadata": {},
   "outputs": [],
   "source": [
    "prompt_extract = PromptTemplate.from_template( \n",
    "    \"\"\"\n",
    "    ### SCRAPED TEXT FROM WEBSITE:\n",
    "    {page_data}\n",
    "    ### INSTRUCTION:\n",
    "    The scraped text is from the career's page of a website.\n",
    "    Your job is to extract the job postings and get relevant content which include \n",
    "    the following: `role`, `experience`, `skills`, `description`, and `company information`.\n",
    "    Please make sure that the response should be in valid JSON format and should not contain any preamble.\n",
    "    ### VALID JSON RESPONSE:\n",
    "    \"\"\"\n",
    ")\n",
    "chain_extract = prompt_extract | llm\n",
    "response = chain_extract.invoke(input={'page_data': page_data})\n",
    "json_parser = JsonOutputParser()\n",
    "job_info = json_parser.parse(response.content)"
   ]
  },
  {
   "cell_type": "code",
   "execution_count": 9,
   "metadata": {},
   "outputs": [],
   "source": [
    "import fitz \n",
    "def read_pdf(file_path):\n",
    "    doc = fitz.open(file_path)\n",
    "    text = \"\"\n",
    "    for page in doc:\n",
    "        text += page.get_text()\n",
    "    return text\n",
    "\n",
    "resume_text = read_pdf(\"./Anurag_Pathak_SDE_Resume.pdf\")\n"
   ]
  },
  {
   "cell_type": "code",
   "execution_count": 10,
   "metadata": {},
   "outputs": [],
   "source": [
    "import chromadb\n",
    "import uuid\n",
    "chroma_client = chromadb.PersistentClient('vectorstore')\n",
    "collection = chroma_client.get_or_create_collection(name=\"resumes\")\n",
    "if not collection.count():\n",
    "    collection.add(documents=resume_text, ids=[str(uuid.uuid4)])\n"
   ]
  },
  {
   "cell_type": "code",
   "execution_count": 11,
   "metadata": {},
   "outputs": [
    {
     "name": "stdout",
     "output_type": "stream",
     "text": [
      "Subject: Application for SDE-I (Frontend) Role at Mindtickle\n",
      "\n",
      "Dear Hiring Manager,\n",
      "\n",
      "I am excited to apply for the SDE-I (Frontend) role at Mindtickle, as advertised on [Job Portal/Source]. With a strong background in Frontend Development and a passion for building scalable and efficient applications, I am confident that I can make a valuable contribution to your team.\n",
      "\n",
      "As a recent graduate in Computer Science and Engineering, I have gained significant experience in Frontend Development through my internships and projects. My experience in developing and optimizing UI components using JavaScript, TypeScript, React, and Angular has equipped me with the skills to handle complex frontend tasks. In my previous role at GrapeCity, I improved the user experience of Wijmo Flexcharts by adding keyboard accessibility and optimized Wijmo Flexgrid components, resulting in a 20% performance enhancement.\n",
      "\n",
      "I am particularly drawn to Mindtickle's focus on innovation and customer satisfaction. My values of problem-solving, attention to detail, and commitment to delivering high-quality solutions align with Mindtickle's goals. I am excited about the opportunity to work with a talented team to build cutting-edge frontend applications that meet the highest standards of quality and performance.\n",
      "\n",
      "One of my notable projects, Web OS, demonstrates my expertise in Frontend Development. Built using Next.js, React.js, and Tailwind CSS, Web OS provides a responsive interface that mimics the intuitive design principles of Ubuntu OS, enhancing accessibility and ease of navigation. You can find the live link to this project at [Web OS Live Link].\n",
      "\n",
      "In addition to my technical skills, I possess excellent problem-solving skills, strong communication skills, and the ability to work collaboratively in a team environment. I am confident that my skills and experience make me an ideal fit for this role.\n",
      "\n",
      "Thank you for considering my application. I would be thrilled to discuss this opportunity further and explain in greater detail why I am the perfect fit for this role.\n",
      "\n",
      "Regards,\n",
      "\n",
      "Anurag Pathak\n",
      "\n",
      "Links:\n",
      "\n",
      "* Portfolio: anuragpathak.vercel.app\n",
      "* GitHub: github.com/ANURAG-PATHAK\n",
      "* LinkedIn: linkedin.com/in/anuragpathak0\n",
      "* Email: pathakanurag605@gmail.com\n",
      "* Phone: +91-9450663363\n"
     ]
    }
   ],
   "source": [
    "prompt_template = PromptTemplate.from_template(\n",
    "    \"\"\"\n",
    "    ### RESUME:\n",
    "    {resume_text}\n",
    "    ### JOB POSTING:\n",
    "    {job_posting}\n",
    "    ### INSTRUCTION:\n",
    "    You are job applicant, Based on the resume and job posting which is a JSON object with following keys: `role`, `experience`, `skills` and `description`.\n",
    "    , generate a cold email (add subject and follow proper format of a E-Mail) for the job application highlighting your experiences (calculate form the resume), \n",
    "    skills and how can you contribute to the team. How your values and skills align with the company goals. \n",
    "    Make sure to describe any relevant projects which should align with the skills in the job posting\n",
    "    Also make sure to add links (at the bottom after regards) of the portfolio, github, mailID, phone number or other relevant links required in proper format.\n",
    "    please make sure not to exceed 450 words limit. do not provide a preamble.\n",
    "    ### RESPONSE (NO PREAMBLE):    \n",
    "    \"\"\"\n",
    ")\n",
    "chain = prompt_template | llm\n",
    "response = chain.invoke(input={\"resume_text\": resume_text, \"job_posting\": job_info})\n",
    "print(response.content)"
   ]
  },
  {
   "cell_type": "code",
   "execution_count": null,
   "metadata": {},
   "outputs": [],
   "source": []
  }
 ],
 "metadata": {
  "kernelspec": {
   "display_name": "Post2Pitch",
   "language": "python",
   "name": "python3"
  },
  "language_info": {
   "codemirror_mode": {
    "name": "ipython",
    "version": 3
   },
   "file_extension": ".py",
   "mimetype": "text/x-python",
   "name": "python",
   "nbconvert_exporter": "python",
   "pygments_lexer": "ipython3",
   "version": "3.10.14"
  }
 },
 "nbformat": 4,
 "nbformat_minor": 2
}
